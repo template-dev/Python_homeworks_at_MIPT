{
  "nbformat": 4,
  "nbformat_minor": 0,
  "metadata": {
    "colab": {
      "provenance": [],
      "authorship_tag": "ABX9TyOu6gRjyMabWO0jdxTYHuFz",
      "include_colab_link": true
    },
    "kernelspec": {
      "name": "python3",
      "display_name": "Python 3"
    },
    "language_info": {
      "name": "python"
    }
  },
  "cells": [
    {
      "cell_type": "markdown",
      "metadata": {
        "id": "view-in-github",
        "colab_type": "text"
      },
      "source": [
        "<a href=\"https://colab.research.google.com/github/template-dev/Python_homeworks_at_MIPT/blob/main/HW_2_1.ipynb\" target=\"_parent\"><img src=\"https://colab.research.google.com/assets/colab-badge.svg\" alt=\"Open In Colab\"/></a>"
      ]
    },
    {
      "cell_type": "code",
      "execution_count": 16,
      "metadata": {
        "colab": {
          "base_uri": "https://localhost:8080/"
        },
        "id": "8-cuGehm6bJq",
        "outputId": "70866a68-c9cf-488a-d30c-209c832a0e4e"
      },
      "outputs": [
        {
          "output_type": "stream",
          "name": "stdout",
          "text": [
            "Введите слово: testing\n",
            "t\n"
          ]
        }
      ],
      "source": [
        "# Task 1\n",
        "word = input(\"Введите слово: \")\n",
        "if (len(word) & 1) == 0: # len(word) % 2 == 0\n",
        "  print(f\"{word[len(word) // 2 - 1]}{word[len(word) // 2]}\")\n",
        "else:\n",
        "  print(word[len(word) // 2])"
      ]
    },
    {
      "cell_type": "code",
      "source": [
        "# Task 2\n",
        "#boys = ['Peter', 'Alex', 'John', 'Arthur', 'Richard', 'Michael']\n",
        "boys = ['Peter', 'Alex', 'John', 'Arthur', 'Richard']\n",
        "girls = ['Kate', 'Liza', 'Kira', 'Emma', 'Trisha']\n",
        "\n",
        "sorted_boys = sorted(boys)\n",
        "sorted_girls = sorted(girls)\n",
        "\n",
        "def Solution(boys_lst, girls_lst):\n",
        "  if len(boys_lst) != len(girls_lst):\n",
        "    print(\"Внимание, кто-то может остаться без пары!\")\n",
        "    return\n",
        "\n",
        "  print(\"Идеальные пары:\")\n",
        "  for i in range(len(boys_lst)):\n",
        "    print(f\"{boys_lst[i]} и {girls_lst[i]}\")\n",
        "\n",
        "Solution(sorted_boys, sorted_girls)"
      ],
      "metadata": {
        "colab": {
          "base_uri": "https://localhost:8080/"
        },
        "id": "EWVthke99ITi",
        "outputId": "8cdeac7f-a10b-4e60-e14a-bbffa64b35dd"
      },
      "execution_count": 23,
      "outputs": [
        {
          "output_type": "stream",
          "name": "stdout",
          "text": [
            "Идеальные пары:\n",
            "Alex и Emma\n",
            "Arthur и Kate\n",
            "John и Kira\n",
            "Peter и Liza\n",
            "Richard и Trisha\n"
          ]
        }
      ]
    }
  ]
}