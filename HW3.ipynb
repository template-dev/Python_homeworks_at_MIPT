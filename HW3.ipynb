{
  "nbformat": 4,
  "nbformat_minor": 0,
  "metadata": {
    "colab": {
      "provenance": [],
      "authorship_tag": "ABX9TyNLEWL+8jORG/oje87nhcNL",
      "include_colab_link": true
    },
    "kernelspec": {
      "name": "python3",
      "display_name": "Python 3"
    },
    "language_info": {
      "name": "python"
    }
  },
  "cells": [
    {
      "cell_type": "markdown",
      "metadata": {
        "id": "view-in-github",
        "colab_type": "text"
      },
      "source": [
        "<a href=\"https://colab.research.google.com/github/template-dev/Python_homeworks_at_MIPT/blob/main/HW3.ipynb\" target=\"_parent\"><img src=\"https://colab.research.google.com/assets/colab-badge.svg\" alt=\"Open In Colab\"/></a>"
      ]
    },
    {
      "cell_type": "markdown",
      "source": [
        "**Задание 1. Обработка деления на ноль**\n",
        "\n",
        "Напишите программу, которая принимает два числа от пользователя и выводит результат их деления.\n",
        "Используйте обработку исключений, чтобы корректно обработать ситуацию, когда пользователь вводит 0 в качестве второго числа."
      ],
      "metadata": {
        "id": "y2odPlsWzUxq"
      }
    },
    {
      "cell_type": "code",
      "execution_count": 28,
      "metadata": {
        "colab": {
          "base_uri": "https://localhost:8080/"
        },
        "id": "vUQ1kiDUqJB0",
        "outputId": "238d3dda-8daa-4a84-92d1-34589b68704a"
      },
      "outputs": [
        {
          "output_type": "stream",
          "name": "stdout",
          "text": [
            "Enter the first number: 5\n",
            "Enter the second number: 0\n",
            "Error: float division by zero\n"
          ]
        }
      ],
      "source": [
        "def division(first_digit, second_digit):\n",
        "  return first_digit / second_digit\n",
        "\n",
        "try:\n",
        "  first = float(input(\"Enter the first number: \"))\n",
        "  second = float(input(\"Enter the second number: \"))\n",
        "  print(f\"Result: {division(first, second)}\")\n",
        "except ZeroDivisionError as e:\n",
        "  print(f\"Error: {e}\")"
      ]
    },
    {
      "cell_type": "markdown",
      "source": [
        "**Задание 2. Обработка некорректного ввода**\n",
        "\n",
        "Расширьте предыдущую программу, чтобы она также обрабатывала ситуацию, когда пользователь вводит строку вместо числа.\n",
        "Используйте несколько блоков except для обработки разных типов исключений."
      ],
      "metadata": {
        "id": "th24qy0izuGs"
      }
    },
    {
      "cell_type": "code",
      "source": [
        "def divisionStr(first_digit, second_digit):\n",
        "  return first_digit / second_digit\n",
        "\n",
        "try:\n",
        "  first_str = float(input(\"Enter the first number: \"))\n",
        "  second_str = float(input(\"Enter the second number: \"))\n",
        "  print(f\"Result: {divisionStr(first_str, second_str)}\")\n",
        "except ZeroDivisionError as e:\n",
        "  print(f\"Error: {e}\")\n",
        "except TypeError as e:\n",
        "  print(f\"Error: {e}\")\n",
        "except Exception as e:\n",
        "  print(f\"Error: {e}\")"
      ],
      "metadata": {
        "colab": {
          "base_uri": "https://localhost:8080/"
        },
        "id": "kIcRBk6nymwm",
        "outputId": "ae28f8ec-8db3-43a7-c2cc-074876a00b61"
      },
      "execution_count": 34,
      "outputs": [
        {
          "output_type": "stream",
          "name": "stdout",
          "text": [
            "Enter the first number: asd\n",
            "Error: could not convert string to float: 'asd'\n"
          ]
        }
      ]
    },
    {
      "cell_type": "markdown",
      "source": [
        "**Задание 3. Создание собственных исключений**\n",
        "\n",
        "Напишите программу, которая вычисляет сумму списка целых чисел.\n",
        "Создайте свои собственные классы исключений для обработки ситуаций, когда в списке есть хотя бы одно чётное или отрицательное число.\n",
        "Используйте оператор raise для генерации исключений."
      ],
      "metadata": {
        "id": "k6yAkjM0zyyY"
      }
    },
    {
      "cell_type": "code",
      "source": [
        "class EvenDigitError(Exception):\n",
        "  pass\n",
        "\n",
        "class NegativeDigitError(Exception):\n",
        "  pass\n",
        "\n",
        "def calculate_sum(input_digits):\n",
        "  total = 0\n",
        "  for digit in input_digits:\n",
        "    if (digit & 1) == 0: # digit % 2 == 0\n",
        "      raise EvenDigitError(f\"Error: An even number was found: {digit}\")\n",
        "    elif digit < 0:\n",
        "      raise NegativeDigitError(f\"Error: A negative number was found: {digit}\")\n",
        "    total += digit\n",
        "  return total\n",
        "\n",
        "try:\n",
        "  digits = [-1, 0, 1, 2, 3, 4, 5, 6, 7, 8, 9]\n",
        "  print(calculate_sum(digits))\n",
        "except EvenDigitError as e:\n",
        "  print(e)\n",
        "except NegativeDigitError as e:\n",
        "  print(e)"
      ],
      "metadata": {
        "colab": {
          "base_uri": "https://localhost:8080/"
        },
        "id": "U2fwz_100oki",
        "outputId": "d79ba46e-63af-4fba-bec3-c96509741a2e"
      },
      "execution_count": null,
      "outputs": [
        {
          "output_type": "stream",
          "name": "stdout",
          "text": [
            "Error: A negative number was found: -1\n"
          ]
        }
      ]
    },
    {
      "cell_type": "markdown",
      "source": [
        "**Задание 4. Обработка ошибок индексации**\n",
        "\n",
        "Напишите программу, которая принимает от пользователя индекс элемента списка и выводит значение этого элемента. Используйте обработку исключений для корректной обработки ситуаций, когда пользователь вводит индекс, выходящий за пределы списка."
      ],
      "metadata": {
        "id": "FwCupBCm9W64"
      }
    },
    {
      "cell_type": "code",
      "source": [
        "def get_value_from_list_by_index(index, input_list):\n",
        "  return input_list[index]\n",
        "\n",
        "try:\n",
        "  data = [1, 2, 3, 4]\n",
        "  index = int(input(\"Enter the index: \"))\n",
        "  print(get_value_from_list_by_index(index, data))\n",
        "except IndexError:\n",
        "  print(\"Error: Invalid index!\")\n",
        "except Exception as e:\n",
        "  print(f\"Error: {e}\")"
      ],
      "metadata": {
        "colab": {
          "base_uri": "https://localhost:8080/"
        },
        "id": "E9FgcaU49YyK",
        "outputId": "38cb2a69-c507-4563-a69e-ee25554619c6"
      },
      "execution_count": 13,
      "outputs": [
        {
          "output_type": "stream",
          "name": "stdout",
          "text": [
            "Enter the index: asd\n",
            "Error: invalid literal for int() with base 10: 'asd'\n"
          ]
        }
      ]
    },
    {
      "cell_type": "markdown",
      "source": [
        "**Задание 5. Обработка ошибок преобразования типов**\n",
        "\n",
        "Напишите программу, которая принимает от пользователя строку и преобразует её в число с плавающей точкой. Используйте обработку исключений для корректной обработки ситуаций, когда пользователь вводит строку, которую невозможно преобразовать в число."
      ],
      "metadata": {
        "id": "FjzYMXEC9Z0w"
      }
    },
    {
      "cell_type": "code",
      "source": [
        "def to_float(str):\n",
        "  return float(str)\n",
        "\n",
        "try:\n",
        "  str = input(\"Enter the string: \")\n",
        "  print(to_float(str))\n",
        "except ValueError as e:\n",
        "  print(f\"Error: {e}\")"
      ],
      "metadata": {
        "colab": {
          "base_uri": "https://localhost:8080/"
        },
        "id": "7T2JpKvq9dZe",
        "outputId": "9e729e9b-9dba-4344-db26-3cafddc5fb69"
      },
      "execution_count": 18,
      "outputs": [
        {
          "output_type": "stream",
          "name": "stdout",
          "text": [
            "Enter the string: 0.6456\n",
            "0.6456\n"
          ]
        }
      ]
    },
    {
      "cell_type": "markdown",
      "source": [
        "**Задание 6. Обработка ошибок импорта модулей**\n",
        "\n",
        "Напишите программу, которая импортирует модуль math и использует функцию sqrt() для вычисления квадратного корня числа, введённого пользователем. Используйте обработку исключений для корректной обработки ситуаций, когда модуль math не может быть импортирован или функция sqrt() не может быть вызвана для отрицательного числа."
      ],
      "metadata": {
        "id": "CDMZQWWs9d9I"
      }
    },
    {
      "cell_type": "code",
      "source": [
        "import math\n",
        "\n",
        "try:\n",
        "  value = float(input(\"Enter the value: \"))\n",
        "  if value < 0:\n",
        "    raise ValueError(f\"Invalid value: {value}\")\n",
        "  print(math.sqrt(value))\n",
        "except ImportError as e:\n",
        "  print(f\"Error: {e}\")\n",
        "except ValueError as e:\n",
        "  print(f\"Error: {e}\")"
      ],
      "metadata": {
        "colab": {
          "base_uri": "https://localhost:8080/"
        },
        "id": "DysaGZS09gpF",
        "outputId": "6b08d8a7-a0db-4aef-ad9b-9f0f5e46b2bb"
      },
      "execution_count": 25,
      "outputs": [
        {
          "output_type": "stream",
          "name": "stdout",
          "text": [
            "Enter the value: 4\n",
            "2.0\n"
          ]
        }
      ]
    }
  ]
}