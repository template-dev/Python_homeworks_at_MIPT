{
  "nbformat": 4,
  "nbformat_minor": 0,
  "metadata": {
    "colab": {
      "provenance": [],
      "authorship_tag": "ABX9TyOJcxgKSUYSgqYpEW55bl5q",
      "include_colab_link": true
    },
    "kernelspec": {
      "name": "python3",
      "display_name": "Python 3"
    },
    "language_info": {
      "name": "python"
    }
  },
  "cells": [
    {
      "cell_type": "markdown",
      "metadata": {
        "id": "view-in-github",
        "colab_type": "text"
      },
      "source": [
        "<a href=\"https://colab.research.google.com/github/template-dev/Python_homeworks_at_MIPT/blob/main/HW_1.ipynb\" target=\"_parent\"><img src=\"https://colab.research.google.com/assets/colab-badge.svg\" alt=\"Open In Colab\"/></a>"
      ]
    },
    {
      "cell_type": "code",
      "execution_count": null,
      "metadata": {
        "colab": {
          "base_uri": "https://localhost:8080/"
        },
        "id": "igOffojSnsIp",
        "outputId": "ac55eea8-52f6-4574-d962-41a06cd86ff0"
      },
      "outputs": [
        {
          "output_type": "stream",
          "name": "stdout",
          "text": [
            "Введите год: 2019\n",
            "Обычный год\n"
          ]
        }
      ],
      "source": [
        "# Task 1\n",
        "year = int(input(\"Введите год: \"))\n",
        "\n",
        "if (year % 4 == 0 and year % 100 != 0) or year % 400 == 0:\n",
        "  print(\"Високосный год\")\n",
        "else:\n",
        "  print(\"Обычный год\")"
      ]
    },
    {
      "cell_type": "code",
      "source": [
        "# Task 2\n",
        "ticket = int(input(\"Введите номер билета: \"))\n",
        "sum1 = 0\n",
        "sum2 = 0\n",
        "\n",
        "for i in range(3):\n",
        "  sum1 += ticket % 10\n",
        "  ticket //= 10\n",
        "\n",
        "for i in range(3):\n",
        "  sum2 += ticket % 10\n",
        "  ticket //= 10\n",
        "\n",
        "if sum1 == sum2:\n",
        "  print(\"Счастливый билет\")\n",
        "else:\n",
        "  print(\"Несчастливый билет\")"
      ],
      "metadata": {
        "colab": {
          "base_uri": "https://localhost:8080/"
        },
        "id": "a1FBhOEEn8x_",
        "outputId": "57d6b7c4-1a1c-4886-9f8f-8d656c95c543"
      },
      "execution_count": null,
      "outputs": [
        {
          "output_type": "stream",
          "name": "stdout",
          "text": [
            "Введите номер билета: 123456\n",
            "Несчастливый билет\n"
          ]
        }
      ]
    }
  ]
}