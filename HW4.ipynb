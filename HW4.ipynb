{
  "nbformat": 4,
  "nbformat_minor": 0,
  "metadata": {
    "colab": {
      "provenance": [],
      "authorship_tag": "ABX9TyMYHW2NyrKWARuyLgex2z4n",
      "include_colab_link": true
    },
    "kernelspec": {
      "name": "python3",
      "display_name": "Python 3"
    },
    "language_info": {
      "name": "python"
    }
  },
  "cells": [
    {
      "cell_type": "markdown",
      "metadata": {
        "id": "view-in-github",
        "colab_type": "text"
      },
      "source": [
        "<a href=\"https://colab.research.google.com/github/template-dev/Python_homeworks_at_MIPT/blob/main/HW4.ipynb\" target=\"_parent\"><img src=\"https://colab.research.google.com/assets/colab-badge.svg\" alt=\"Open In Colab\"/></a>"
      ]
    },
    {
      "cell_type": "markdown",
      "source": [
        "**Задание 1. Копирование содержимого одного файла в другой**\n",
        "\n",
        "Создайте программу, которая копирует содержимое файла source.txt в новый файл destination.txt."
      ],
      "metadata": {
        "id": "gd1-V4HNgwIs"
      }
    },
    {
      "cell_type": "code",
      "execution_count": 17,
      "metadata": {
        "id": "IZMW-2nzev8d",
        "colab": {
          "base_uri": "https://localhost:8080/"
        },
        "outputId": "55b3a8ab-67e9-4651-91b1-6c4815402450"
      },
      "outputs": [
        {
          "output_type": "stream",
          "name": "stdout",
          "text": [
            "The file 'source.txt' was successfully copied to 'destination.txt'.\n"
          ]
        }
      ],
      "source": [
        "def copy_file(source, destination):\n",
        "  try:\n",
        "    with open(source, \"r\") as src:\n",
        "      content = src.read()\n",
        "    with open(destination, \"w\") as dest:\n",
        "      dest.write(content)\n",
        "      print(f\"The file '{source}' was successfully copied to '{destination}'.\")\n",
        "  except FileNotFoundError:\n",
        "    print(f\"The file '{source}' was not found.\")\n",
        "  except Exception as e:\n",
        "    print(f\"Error: {e}\")\n",
        "\n",
        "copy_file(\"source.txt\", \"destination.txt\")"
      ]
    },
    {
      "cell_type": "markdown",
      "source": [
        "**Задание 2. Подсчёт стоимости заказа из файла**\n",
        "\n",
        "Напишите программу, которая считывает файл prices.txt, содержащий информацию о товарах: название, количество и цену, и подсчитывает общую стоимость заказа."
      ],
      "metadata": {
        "id": "VwzE6eU6g0Oh"
      }
    },
    {
      "cell_type": "code",
      "source": [
        "def calculate_prices(source):\n",
        "  total_price = 0\n",
        "  try:\n",
        "    with open(source, \"r\") as src:\n",
        "      for line in src:\n",
        "        parts = line.split()\n",
        "        quantity = int(parts[1])\n",
        "        price_per_unit = int(parts[2])\n",
        "        total_price += quantity * price_per_unit\n",
        "    return total_price\n",
        "  except FileNotFoundError:\n",
        "    print(f\"The file '{source}' was not found.\")\n",
        "  except Exception as e:\n",
        "    print(f\"Error: {e}\")\n",
        "\n",
        "filename = \"prices.txt\"\n",
        "print(f\"Total price: {calculate_prices(filename)}\")"
      ],
      "metadata": {
        "id": "Fx3vdY2Wg24E",
        "colab": {
          "base_uri": "https://localhost:8080/"
        },
        "outputId": "73c2f92f-a771-4b2c-92d0-249600f7a030"
      },
      "execution_count": 18,
      "outputs": [
        {
          "output_type": "stream",
          "name": "stdout",
          "text": [
            "Total price: 650\n"
          ]
        }
      ]
    },
    {
      "cell_type": "markdown",
      "source": [
        "**Задание 3. Подсчёт количества слов в файле**\n",
        "\n",
        "Напишите программу, которая подсчитывает количество слов в текстовом файле text_file.txt и выводит результат на экран."
      ],
      "metadata": {
        "id": "-R6L8QVlg3HD"
      }
    },
    {
      "cell_type": "code",
      "source": [
        "def calculate_words(source):\n",
        "  number_of_words = 0;\n",
        "  try:\n",
        "    with open(source, \"r\") as src:\n",
        "      for line in src:\n",
        "        line = line.replace(\"—\", \" \").replace(\".\", \" \")\n",
        "        words = line.split()\n",
        "        number_of_words += len(words)\n",
        "    return number_of_words\n",
        "  except FileNotFoundError:\n",
        "    print(f\"The file '{source}' was not found.\")\n",
        "  except Exception as e:\n",
        "    print(f\"Error: {e}\")\n",
        "\n",
        "filename = \"text_file.txt\"\n",
        "print(f\"Number of words: {calculate_words(filename)}\")"
      ],
      "metadata": {
        "id": "ETJG605hg6_3",
        "colab": {
          "base_uri": "https://localhost:8080/"
        },
        "outputId": "3e73ac1c-81fd-4f4b-81aa-c7480a54c7d6"
      },
      "execution_count": 31,
      "outputs": [
        {
          "output_type": "stream",
          "name": "stdout",
          "text": [
            "Number of words: 19\n"
          ]
        }
      ]
    },
    {
      "cell_type": "markdown",
      "source": [
        "**Задание 4. Копирование уникального содержимого одного файла в другой**\n",
        "\n",
        "Создайте программу, которая считывает строки из файла input.txt, сохраняет только уникальные строки и записывает их в новый файл unique_output.txt."
      ],
      "metadata": {
        "id": "8SIwwcCug7Ua"
      }
    },
    {
      "cell_type": "code",
      "source": [
        "def calculate_words(input_file, output_file):\n",
        "  try:\n",
        "    unique_lines = set()\n",
        "    with open(input_file, 'r') as infile:\n",
        "      for line in infile:\n",
        "                unique_lines.add(line.strip())\n",
        "\n",
        "    with open(output_file, 'w') as outfile:\n",
        "      for line in unique_lines:\n",
        "        outfile.write(line + '\\n')\n",
        "  except FileNotFoundError:\n",
        "    print(f\"The file was not found.\")\n",
        "  except Exception as e:\n",
        "    print(f\"Error: {e}\")\n",
        "\n",
        "input_file = \"input.txt\"\n",
        "output_file = \"unique_output.txt\"\n",
        "calculate_words(input_file, output_file)"
      ],
      "metadata": {
        "id": "94_QXgYmg901"
      },
      "execution_count": 43,
      "outputs": []
    }
  ]
}